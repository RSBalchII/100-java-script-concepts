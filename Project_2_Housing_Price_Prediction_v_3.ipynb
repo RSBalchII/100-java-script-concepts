{
  "cells": [
    {
      "cell_type": "markdown",
      "metadata": {
        "id": "view-in-github",
        "colab_type": "text"
      },
      "source": [
        "<a href=\"https://colab.research.google.com/github/RSBalchII/100-java-script-concepts/blob/main/Project_2_Housing_Price_Prediction_v_3.ipynb\" target=\"_parent\"><img src=\"https://colab.research.google.com/assets/colab-badge.svg\" alt=\"Open In Colab\"/></a>"
      ]
    },
    {
      "cell_type": "markdown",
      "metadata": {
        "id": "7xZ7Xm6haWL0"
      },
      "source": [
        "# Project 2: Housing Price Prediction\n"
      ]
    },
    {
      "cell_type": "markdown",
      "metadata": {
        "id": "UqTHvZmzaoXx"
      },
      "source": [
        "The project should be done using Regression prediction techniques ( with feature scaling and regularization ) as covered in class.\n",
        "The goal is to minimize the RMS ***percentage*** error ( root mean squared percentage error - RMSPE ) on your prediction of the house sales price.\n",
        "\n"
      ]
    },
    {
      "cell_type": "markdown",
      "metadata": {
        "id": "e6QaOA3-a6Xy"
      },
      "source": [
        "Any of the available features can be used in the regression, but a minimum set of variables that do the job should be the ultimate goal.\n",
        "\n"
      ]
    },
    {
      "cell_type": "markdown",
      "metadata": {
        "id": "9LDYmtpha7GP"
      },
      "source": [
        "Be sure to go through the whole data science process and document as such in your Jupyter notebook.\n",
        "\n"
      ]
    },
    {
      "cell_type": "markdown",
      "metadata": {
        "id": "avuzkDMRa70x"
      },
      "source": [
        "This project will have less direct \"To Do\" guidance and the progression through the data science process will be more individualized this time around.\n",
        "We will talk about all the issues during class so you're not going to be out on a ledge with this one, I just want to move you towards performing a data science project on your own eventually.\n",
        "\n"
      ]
    },
    {
      "cell_type": "markdown",
      "metadata": {
        "id": "YhCip5q-a9Wh"
      },
      "source": [
        "The data is available on AWS S3 at https://ddc-datascience.s3.amazonaws.com/Projects/Project.2-Housing/Data/Housing.Data.csv .\n"
      ]
    },
    {
      "cell_type": "markdown",
      "metadata": {
        "id": "Py2Jc68C4Pyw"
      },
      "source": [
        "# Install Nvidia cudf dependencies and package"
      ]
    },
    {
      "cell_type": "code",
      "execution_count": 30,
      "metadata": {
        "id": "UBUbxGWzT_AT"
      },
      "outputs": [],
      "source": [
        "%%capture\n",
        "!pip install cudf-cu11 --extra-index-url=https://pypi.ngc.nvidia.com\n",
        "!apt-get update\n",
        "!apt-get install -y nvidia-cuda-toolkit\n",
        "\n",
        "import locale\n",
        "locale.getpreferredencoding = lambda: \"UTF-8\"\n",
        "\n",
        "%load_ext cudf.pandas"
      ]
    },
    {
      "cell_type": "markdown",
      "metadata": {
        "id": "hg9PGofXa8oz"
      },
      "source": [
        "A data dictionary file is available at AWS S3 at [Housing Data Dictionary]( https://ddc-datascience.s3.amazonaws.com/Projects/Project.2-Housing/Housing%20-%20Data%20Documentation.pdf )."
      ]
    },
    {
      "cell_type": "markdown",
      "metadata": {
        "id": "5j7AEo0RyTvX"
      },
      "source": [
        "## 1- Imports"
      ]
    },
    {
      "cell_type": "code",
      "execution_count": 31,
      "metadata": {
        "colab": {
          "base_uri": "https://localhost:8080/"
        },
        "id": "wr7X4i8_yZSf",
        "outputId": "b5d0ac1c-6ce1-4427-bf84-e8301e231a0a"
      },
      "outputs": [
        {
          "output_type": "stream",
          "name": "stdout",
          "text": [
            "The cudf.pandas extension is already loaded. To reload it, use:\n",
            "  %reload_ext cudf.pandas\n"
          ]
        }
      ],
      "source": [
        "\n",
        "%load_ext cudf.pandas\n",
        "\n",
        "import pandas as pd\n",
        "import numpy as np\n",
        "\n",
        "import matplotlib.pyplot as plt\n",
        "import seaborn as sns\n",
        "\n",
        "from sklearn.model_selection import train_test_split\n",
        "from sklearn.metrics import mean_squared_error\n",
        "from sklearn.impute import SimpleImputer\n",
        "\n",
        "from sklearn.feature_selection import RFE\n",
        "from sklearn.feature_selection import RFECV\n",
        "\n",
        "from sklearn.linear_model import LinearRegression\n",
        "from sklearn.linear_model import Ridge\n",
        "\n",
        "from sklearn.ensemble import RandomForestRegressor\n",
        "from sklearn.preprocessing import StandardScaler"
      ]
    },
    {
      "cell_type": "markdown",
      "metadata": {
        "id": "ga2Jr2n-ybqu"
      },
      "source": [
        "# 2- Loading the Data"
      ]
    },
    {
      "cell_type": "code",
      "execution_count": 32,
      "metadata": {
        "colab": {
          "base_uri": "https://localhost:8080/"
        },
        "id": "gHSObMW0yecf",
        "outputId": "82ce6099-ee9a-4fe7-f6bb-ea78db45b4d6"
      },
      "outputs": [
        {
          "output_type": "stream",
          "name": "stderr",
          "text": [
            "/usr/local/lib/python3.10/dist-packages/cudf/io/csv.py:96: FutureWarning: Support for reading pyarrow's NativeFile is deprecated and will be removed in a future release of cudf.\n",
            "  df = libcudf.csv.read_csv(\n"
          ]
        }
      ],
      "source": [
        "# Load the data\n",
        "url = 'https://ddc-datascience.s3.amazonaws.com/Projects/Project.2-Housing/Data/Housing.Data.csv'\n",
        "df = pd.read_csv(url)"
      ]
    },
    {
      "cell_type": "markdown",
      "metadata": {
        "id": "5RUXSTw_2Qd_"
      },
      "source": [
        "# 3- Create Data Frame"
      ]
    },
    {
      "cell_type": "code",
      "execution_count": 33,
      "metadata": {
        "id": "I5vwAI0G15Oz"
      },
      "outputs": [],
      "source": [
        "df_1 = pd.DataFrame(df)"
      ]
    },
    {
      "cell_type": "markdown",
      "metadata": {
        "id": "b2Co4BOAI1-R"
      },
      "source": [
        "## Determine the \"target\""
      ]
    },
    {
      "cell_type": "code",
      "execution_count": 34,
      "metadata": {
        "id": "m87i9NYyKhfo"
      },
      "outputs": [],
      "source": [
        "# Identify the target variable (SalePrice)\n",
        "target = df_1['SalePrice'].copy()"
      ]
    },
    {
      "cell_type": "markdown",
      "metadata": {
        "id": "jD8pmDVxy9Kq"
      },
      "source": [
        "### Determining data distinctions"
      ]
    },
    {
      "cell_type": "code",
      "execution_count": 35,
      "metadata": {
        "colab": {
          "base_uri": "https://localhost:8080/"
        },
        "id": "TjINgMNHy8g-",
        "outputId": "3f521bba-7b4f-425b-fbcb-9ae67a1e7e10"
      },
      "outputs": [
        {
          "output_type": "stream",
          "name": "stdout",
          "text": [
            "Categorical columns['MS Zoning', 'Street', 'Alley', 'Lot Shape', 'Land Contour', 'Utilities', 'Lot Config', 'Land Slope', 'Neighborhood', 'Condition 1', 'Condition 2', 'Bldg Type', 'House Style', 'Roof Style', 'Roof Matl', 'Exterior 1st', 'Exterior 2nd', 'Mas Vnr Type', 'Exter Qual', 'Exter Cond', 'Foundation', 'Bsmt Qual', 'Bsmt Cond', 'Bsmt Exposure', 'BsmtFin Type 1', 'BsmtFin Type 2', 'Heating', 'Heating QC', 'Central Air', 'Electrical', 'Kitchen Qual', 'Functional', 'Fireplace Qu', 'Garage Type', 'Garage Finish', 'Garage Qual', 'Garage Cond', 'Paved Drive', 'Pool QC', 'Fence', 'Misc Feature', 'Sale Type', 'Sale Condition']\n",
            "\n",
            "Numerical columns['PID', 'MS SubClass', 'Lot Frontage', 'Lot Area', 'Overall Qual', 'Overall Cond', 'Year Built', 'Year Remod/Add', 'Mas Vnr Area', 'BsmtFin SF 1', 'BsmtFin SF 2', 'Bsmt Unf SF', 'Total Bsmt SF', '1st Flr SF', '2nd Flr SF', 'Low Qual Fin SF', 'Gr Liv Area', 'Bsmt Full Bath', 'Bsmt Half Bath', 'Full Bath', 'Half Bath', 'Bedroom AbvGr', 'Kitchen AbvGr', 'TotRms AbvGrd', 'Fireplaces', 'Garage Yr Blt', 'Garage Cars', 'Garage Area', 'Wood Deck SF', 'Open Porch SF', 'Enclosed Porch', '3Ssn Porch', 'Screen Porch', 'Pool Area', 'Misc Val', 'Mo Sold', 'Yr Sold', 'SalePrice']\n"
          ]
        }
      ],
      "source": [
        "# Identify categorical columns\n",
        "categorical_cols = df_1.select_dtypes(include=['object', 'category']).columns.tolist()\n",
        "print(f'Categorical columns{categorical_cols}')\n",
        "\n",
        "# Identify numerical columns\n",
        "numerical_cols = df_1.select_dtypes(include=['int64', 'float64']).columns.tolist()\n",
        "print(f'\\nNumerical columns{numerical_cols}')\n",
        "\n"
      ]
    },
    {
      "cell_type": "markdown",
      "metadata": {
        "id": "-ZqzQXuJ4H1m"
      },
      "source": [
        "### Asses Unique Values"
      ]
    },
    {
      "cell_type": "code",
      "execution_count": 36,
      "metadata": {
        "colab": {
          "base_uri": "https://localhost:8080/"
        },
        "id": "beNtpYo53XIJ",
        "outputId": "8e81ddc2-c7ca-4f69-bd12-0c44898f8f41"
      },
      "outputs": [
        {
          "output_type": "stream",
          "name": "stdout",
          "text": [
            "Unique values in column 'MS Zoning': ['RL' 'RM' 'FV' 'C (all)' 'RH' 'I (all)' 'A (agr)']\n",
            "Unique values in column 'Street': ['Pave' 'Grvl']\n",
            "Unique values in column 'Alley': [None 'Pave' 'Grvl']\n",
            "Unique values in column 'Lot Shape': ['Reg' 'IR1' 'IR2' 'IR3']\n",
            "Unique values in column 'Land Contour': ['Lvl' 'Bnk' 'HLS' 'Low']\n",
            "Unique values in column 'Utilities': ['AllPub' 'NoSewr' 'NoSeWa']\n",
            "Unique values in column 'Lot Config': ['Inside' 'FR2' 'Corner' 'CulDSac' 'FR3']\n",
            "Unique values in column 'Land Slope': ['Gtl' 'Mod' 'Sev']\n",
            "Unique values in column 'Neighborhood': ['Sawyer' 'IDOTRR' 'Somerst' 'SWISU' 'CollgCr' 'Edwards' 'OldTown'\n",
            " 'Mitchel' 'NridgHt' 'ClearCr' 'NWAmes' 'Gilbert' 'NoRidge' 'NAmes'\n",
            " 'Timber' 'MeadowV' 'StoneBr' 'Blmngtn' 'SawyerW' 'Crawfor' 'Veenker'\n",
            " 'BrkSide' 'GrnHill' 'BrDale' 'NPkVill' 'Greens' 'Blueste' 'Landmrk']\n",
            "Unique values in column 'Condition 1': ['Feedr' 'Norm' 'PosA' 'RRAn' 'PosN' 'Artery' 'RRNn' 'RRAe' 'RRNe']\n",
            "Unique values in column 'Condition 2': ['Norm' 'RRNn' 'Feedr' 'RRAe' 'Artery' 'PosA' 'RRAn' 'PosN']\n",
            "Unique values in column 'Bldg Type': ['1Fam' 'Duplex' 'TwnhsE' '2fmCon' 'Twnhs']\n",
            "Unique values in column 'House Style': ['1Story' '1.5Fin' '2Story' 'SLvl' '1.5Unf' '2.5Unf' 'SFoyer' '2.5Fin']\n",
            "Unique values in column 'Roof Style': ['Gable' 'Hip' 'Mansard' 'Gambrel' 'Shed' 'Flat']\n",
            "Unique values in column 'Roof Matl': ['CompShg' 'WdShake' 'Tar&Grv' 'Roll' 'WdShngl' 'Membran' 'Metal'\n",
            " 'ClyTile']\n",
            "Unique values in column 'Exterior 1st': ['HdBoard' 'MetalSd' 'Wd Sdng' 'VinylSd' 'Plywood' 'WdShing' 'CemntBd'\n",
            " 'AsbShng' 'BrkFace' 'Stucco' 'BrkComm' 'CBlock' 'PreCast' 'Stone'\n",
            " 'AsphShn' 'ImStucc']\n",
            "Unique values in column 'Exterior 2nd': ['HdBoard' 'MetalSd' 'Wd Sdng' 'VinylSd' 'Plywood' 'CmentBd' 'AsbShng'\n",
            " 'Stone' 'BrkFace' 'Stucco' 'Wd Shng' 'ImStucc' 'Brk Cmn' 'AsphShn'\n",
            " 'CBlock' 'PreCast' 'Other']\n",
            "Unique values in column 'Mas Vnr Type': ['None' 'Stone' 'BrkFace' None 'BrkCmn' 'CBlock']\n",
            "Unique values in column 'Exter Qual': ['TA' 'Gd' 'Ex' 'Fa']\n",
            "Unique values in column 'Exter Cond': ['TA' 'Gd' 'Fa' 'Po' 'Ex']\n",
            "Unique values in column 'Foundation': ['CBlock' 'Slab' 'PConc' 'BrkTil' 'Stone' 'Wood']\n",
            "Unique values in column 'Bsmt Qual': ['TA' None 'Gd' 'Ex' 'Fa' 'Po']\n",
            "Unique values in column 'Bsmt Cond': ['TA' None 'Gd' 'Fa' 'Po' 'Ex']\n",
            "Unique values in column 'Bsmt Exposure': ['No' None 'Av' 'Mn' 'Gd']\n",
            "Unique values in column 'BsmtFin Type 1': ['Rec' None 'Unf' 'GLQ' 'ALQ' 'LwQ' 'BLQ']\n",
            "Unique values in column 'BsmtFin Type 2': ['LwQ' None 'Unf' 'BLQ' 'Rec' 'GLQ' 'ALQ']\n",
            "Unique values in column 'Heating': ['GasA' 'Grav' 'GasW' 'OthW' 'Wall' 'Floor']\n",
            "Unique values in column 'Heating QC': ['TA' 'Ex' 'Gd' 'Fa' 'Po']\n",
            "Unique values in column 'Central Air': ['Y' 'N']\n",
            "Unique values in column 'Electrical': ['SBrkr' 'FuseA' 'FuseF' 'FuseP' 'Mix']\n",
            "Unique values in column 'Kitchen Qual': ['TA' 'Gd' 'Ex' 'Fa']\n",
            "Unique values in column 'Functional': ['Typ' 'Min2' 'Maj1' 'Mod' 'Min1' 'Maj2' 'Sal' 'Sev']\n",
            "Unique values in column 'Fireplace Qu': [None 'Gd' 'TA' 'Fa' 'Po' 'Ex']\n",
            "Unique values in column 'Garage Type': ['Detchd' 'CarPort' 'Attchd' 'Basment' 'BuiltIn' None '2Types']\n",
            "Unique values in column 'Garage Finish': ['Unf' 'RFn' 'Fin' None]\n",
            "Unique values in column 'Garage Qual': ['TA' 'Fa' None 'Gd' 'Ex' 'Po']\n",
            "Unique values in column 'Garage Cond': ['TA' 'Fa' None 'Po' 'Gd' 'Ex']\n",
            "Unique values in column 'Paved Drive': ['N' 'Y' 'P']\n",
            "Unique values in column 'Pool QC': [None 'Gd' 'Fa' 'TA' 'Ex']\n",
            "Unique values in column 'Fence': ['MnPrv' None 'GdWo' 'MnWw' 'GdPrv']\n",
            "Unique values in column 'Misc Feature': [None 'Shed' 'Gar2' 'Othr' 'TenC']\n",
            "Unique values in column 'Sale Type': ['WD ' 'New' 'COD' 'ConLD' 'CWD' 'Oth' 'Con' 'ConLI' 'ConLw' 'VWD']\n",
            "Unique values in column 'Sale Condition': ['Normal' 'Partial' 'Abnorml' 'Alloca' 'AdjLand' 'Family']\n"
          ]
        }
      ],
      "source": [
        "for col in categorical_cols:\n",
        "    unique_values = df_1[col].unique()\n",
        "    print(f\"Unique values in column '{col}': {unique_values}\")"
      ]
    },
    {
      "cell_type": "markdown",
      "metadata": {
        "id": "9UsXr63GYfMN"
      },
      "source": [
        "### **Zacs**"
      ]
    },
    {
      "cell_type": "code",
      "execution_count": 37,
      "metadata": {
        "id": "sCEwrpoXYhOd"
      },
      "outputs": [],
      "source": [
        "# B =['Street']\n",
        "# A = ['Alley']\n",
        "# merged_df = pd.merge(\n",
        "#     categorical_cols[A + B].value_counts(dropna = True).reset_index() ,\n",
        "#     categorical_cols[B].value_counts(dropna = True).reset_index(),\n",
        "#     on = B\n",
        "#   )\n",
        "# merged_df['marg_prob'] = merged_df['count_x']/merged_df['count_y'] * 100\n",
        "# merged_df"
      ]
    },
    {
      "cell_type": "markdown",
      "metadata": {
        "id": "leLSV2-QTcDK"
      },
      "source": [
        "### Mels\n"
      ]
    },
    {
      "cell_type": "code",
      "execution_count": 38,
      "metadata": {
        "id": "xekFKUrXTfrr"
      },
      "outputs": [],
      "source": [
        "# pairs = ['Street', 'Heating']\n",
        "# house_orig[pairs].value_counts()/house_orig[pairs].value_counts().sum()*100"
      ]
    },
    {
      "cell_type": "markdown",
      "metadata": {
        "id": "rbq4t8ql_Pof"
      },
      "source": [
        "### Minervas marginal Probability ex."
      ]
    },
    {
      "cell_type": "markdown",
      "metadata": {
        "id": "5E_0kYfk_p-5"
      },
      "source": [
        "##### for col in categorical_cols:\n",
        "```\n",
        "for col in categorical_cols:\n",
        "  print(categorical_cols[col].value_counts() /categorical_cols[col].notna().sum()*100 , '\\n')\n",
        "  ```"
      ]
    },
    {
      "cell_type": "markdown",
      "metadata": {
        "id": "S6D0-CHu_Yvq"
      },
      "source": [
        "## Adapted marginal Probability for my setup"
      ]
    },
    {
      "cell_type": "code",
      "execution_count": 39,
      "metadata": {
        "colab": {
          "base_uri": "https://localhost:8080/"
        },
        "id": "XzpzNZtV_Ggq",
        "outputId": "765538a9-95f9-4c6a-fce4-fc49c86c230f"
      },
      "outputs": [
        {
          "output_type": "stream",
          "name": "stdout",
          "text": [
            "\n",
            "Column: MS Zoning\n",
            "MS Zoning\n",
            "RL         77.474403\n",
            "RM         15.889268\n",
            "FV          4.664391\n",
            "C (all)     0.948047\n",
            "RH          0.872203\n",
            "A (agr)     0.075844\n",
            "I (all)     0.075844\n",
            "Name: proportion, dtype: float64\n",
            "\n",
            "Column: Street\n",
            "Street\n",
            "Pave    99.544937\n",
            "Grvl     0.455063\n",
            "Name: proportion, dtype: float64\n",
            "\n",
            "Column: Alley\n",
            "Alley\n",
            "Grvl    61.666667\n",
            "Pave    38.333333\n",
            "Name: proportion, dtype: float64\n",
            "\n",
            "Column: Lot Shape\n",
            "Lot Shape\n",
            "Reg    63.026166\n",
            "IR1    33.940083\n",
            "IR2     2.464922\n",
            "IR3     0.568828\n",
            "Name: proportion, dtype: float64\n",
            "\n",
            "Column: Land Contour\n",
            "Land Contour\n",
            "Lvl    89.685248\n",
            "HLS     4.209329\n",
            "Bnk     4.019719\n",
            "Low     2.085703\n",
            "Name: proportion, dtype: float64\n",
            "\n",
            "Column: Utilities\n",
            "Utilities\n",
            "AllPub    99.886234\n",
            "NoSewr     0.075844\n",
            "NoSeWa     0.037922\n",
            "Name: proportion, dtype: float64\n",
            "\n",
            "Column: Lot Config\n",
            "Lot Config\n",
            "Inside     72.961699\n",
            "Corner     17.406143\n",
            "CulDSac     6.067501\n",
            "FR2         3.071672\n",
            "FR3         0.492984\n",
            "Name: proportion, dtype: float64\n",
            "\n",
            "Column: Land Slope\n",
            "Land Slope\n",
            "Gtl    95.221843\n",
            "Mod     4.247251\n",
            "Sev     0.530906\n",
            "Name: proportion, dtype: float64\n",
            "\n",
            "Column: Neighborhood\n",
            "Neighborhood\n",
            "NAmes      15.054987\n",
            "CollgCr     9.101251\n",
            "OldTown     8.266970\n",
            "Edwards     6.370876\n",
            "Somerst     6.105423\n",
            "NridgHt     5.688282\n",
            "Gilbert     5.650360\n",
            "Sawyer      5.233220\n",
            "NWAmes      4.398938\n",
            "SawyerW     4.171407\n",
            "Mitchel     3.981797\n",
            "BrkSide     3.678422\n",
            "Crawfor     3.602579\n",
            "IDOTRR      3.185438\n",
            "NoRidge     2.464922\n",
            "Timber      2.351157\n",
            "StoneBr     1.858172\n",
            "SWISU       1.668563\n",
            "ClearCr     1.478953\n",
            "MeadowV     1.289344\n",
            "BrDale      1.061813\n",
            "Veenker     0.910125\n",
            "Blmngtn     0.872203\n",
            "NPkVill     0.758438\n",
            "Blueste     0.379219\n",
            "Greens      0.303375\n",
            "GrnHill     0.075844\n",
            "Landmrk     0.037922\n",
            "Name: proportion, dtype: float64\n",
            "\n",
            "Column: Condition 1\n",
            "Condition 1\n",
            "Norm      86.196435\n",
            "Feedr      5.612438\n",
            "Artery     3.147516\n",
            "RRAn       1.592719\n",
            "PosN       1.213500\n",
            "RRAe       1.023891\n",
            "PosA       0.720516\n",
            "RRNn       0.303375\n",
            "RRNe       0.189609\n",
            "Name: proportion, dtype: float64\n",
            "\n",
            "Column: Condition 2\n",
            "Condition 2\n",
            "Norm      98.938187\n",
            "Feedr      0.417141\n",
            "Artery     0.189609\n",
            "PosA       0.151688\n",
            "PosN       0.151688\n",
            "RRNn       0.075844\n",
            "RRAe       0.037922\n",
            "RRAn       0.037922\n",
            "Name: proportion, dtype: float64\n",
            "\n",
            "Column: Bldg Type\n",
            "Bldg Type\n",
            "1Fam      82.935154\n",
            "TwnhsE     7.963595\n",
            "Duplex     3.602579\n",
            "Twnhs      3.412969\n",
            "2fmCon     2.085703\n",
            "Name: proportion, dtype: float64\n",
            "\n",
            "Column: House Style\n",
            "House Style\n",
            "1Story    50.322336\n",
            "2Story    30.337505\n",
            "1.5Fin    10.466439\n",
            "SLvl       4.285173\n",
            "SFoyer     2.882063\n",
            "2.5Unf     0.796359\n",
            "1.5Unf     0.644672\n",
            "2.5Fin     0.265453\n",
            "Name: proportion, dtype: float64\n",
            "\n",
            "Column: Roof Style\n",
            "Roof Style\n",
            "Gable      79.105044\n",
            "Hip        18.885097\n",
            "Gambrel     0.796359\n",
            "Flat        0.682594\n",
            "Mansard     0.341297\n",
            "Shed        0.189609\n",
            "Name: proportion, dtype: float64\n",
            "\n",
            "Column: Roof Matl\n",
            "Roof Matl\n",
            "CompShg    98.558969\n",
            "Tar&Grv     0.758438\n",
            "WdShake     0.303375\n",
            "WdShngl     0.227531\n",
            "ClyTile     0.037922\n",
            "Membran     0.037922\n",
            "Metal       0.037922\n",
            "Roll        0.037922\n",
            "Name: proportion, dtype: float64\n",
            "\n",
            "Column: Exterior 1st\n",
            "Exterior 1st\n",
            "VinylSd    34.736443\n",
            "MetalSd    15.585893\n",
            "HdBoard    15.282518\n",
            "Wd Sdng    14.410315\n",
            "Plywood     7.394767\n",
            "CemntBd     4.323094\n",
            "BrkFace     2.919985\n",
            "WdShing     1.896094\n",
            "AsbShng     1.668563\n",
            "Stucco      1.365188\n",
            "BrkComm     0.113766\n",
            "AsphShn     0.075844\n",
            "CBlock      0.075844\n",
            "Stone       0.075844\n",
            "ImStucc     0.037922\n",
            "PreCast     0.037922\n",
            "Name: proportion, dtype: float64\n",
            "\n",
            "Column: Exterior 2nd\n",
            "Exterior 2nd\n",
            "VinylSd    34.357224\n",
            "MetalSd    15.472127\n",
            "HdBoard    13.955252\n",
            "Wd Sdng    13.386424\n",
            "Plywood     9.252939\n",
            "CmentBd     4.323094\n",
            "Wd Shng     2.882063\n",
            "BrkFace     1.592719\n",
            "Stucco      1.516875\n",
            "AsbShng     1.441031\n",
            "Brk Cmn     0.720516\n",
            "ImStucc     0.568828\n",
            "Stone       0.227531\n",
            "AsphShn     0.113766\n",
            "CBlock      0.113766\n",
            "Other       0.037922\n",
            "PreCast     0.037922\n",
            "Name: proportion, dtype: float64\n",
            "\n",
            "Column: Mas Vnr Type\n",
            "Mas Vnr Type\n",
            "None       60.596787\n",
            "BrkFace    29.915838\n",
            "Stone       8.569243\n",
            "BrkCmn      0.879878\n",
            "CBlock      0.038256\n",
            "Name: proportion, dtype: float64\n",
            "\n",
            "Column: Exter Qual\n",
            "Exter Qual\n",
            "TA    61.205916\n",
            "Gd    33.902162\n",
            "Ex     3.640501\n",
            "Fa     1.251422\n",
            "Name: proportion, dtype: float64\n",
            "\n",
            "Column: Exter Cond\n",
            "Exter Cond\n",
            "TA    86.841107\n",
            "Gd    10.352673\n",
            "Fa     2.351157\n",
            "Ex     0.341297\n",
            "Po     0.113766\n",
            "Name: proportion, dtype: float64\n",
            "\n",
            "Column: Foundation\n",
            "Foundation\n",
            "PConc     44.937429\n",
            "CBlock    42.320819\n",
            "BrkTil    10.542283\n",
            "Slab       1.668563\n",
            "Stone      0.417141\n",
            "Wood       0.113766\n",
            "Name: proportion, dtype: float64\n",
            "\n",
            "Column: Bsmt Qual\n",
            "Bsmt Qual\n",
            "TA    45.280811\n",
            "Gd    42.628705\n",
            "Ex     8.931357\n",
            "Fa     3.081123\n",
            "Po     0.078003\n",
            "Name: proportion, dtype: float64\n",
            "\n",
            "Column: Bsmt Cond\n",
            "Bsmt Cond\n",
            "TA    91.965679\n",
            "Gd     4.173167\n",
            "Fa     3.588144\n",
            "Po     0.195008\n",
            "Ex     0.078003\n",
            "Name: proportion, dtype: float64\n",
            "\n",
            "Column: Bsmt Exposure\n",
            "Bsmt Exposure\n",
            "No    67.239360\n",
            "Av    14.642718\n",
            "Gd     9.683717\n",
            "Mn     8.434205\n",
            "Name: proportion, dtype: float64\n",
            "\n",
            "Column: BsmtFin Type 1\n",
            "BsmtFin Type 1\n",
            "Unf    29.953198\n",
            "GLQ    29.563183\n",
            "ALQ    15.483619\n",
            "Rec    10.218409\n",
            "BLQ     9.243370\n",
            "LwQ     5.538222\n",
            "Name: proportion, dtype: float64\n",
            "\n",
            "Column: BsmtFin Type 2\n",
            "BsmtFin Type 2\n",
            "Unf    87.592665\n",
            "Rec     3.901678\n",
            "LwQ     2.965275\n",
            "BLQ     2.341007\n",
            "ALQ     1.950839\n",
            "GLQ     1.248537\n",
            "Name: proportion, dtype: float64\n",
            "\n",
            "Column: Heating\n",
            "Heating\n",
            "GasA     98.483125\n",
            "GasW      0.872203\n",
            "Grav      0.341297\n",
            "Wall      0.189609\n",
            "OthW      0.075844\n",
            "Floor     0.037922\n",
            "Name: proportion, dtype: float64\n",
            "\n",
            "Column: Heating QC\n",
            "Heating QC\n",
            "Ex    51.384149\n",
            "TA    29.503223\n",
            "Gd    15.889268\n",
            "Fa     3.109594\n",
            "Po     0.113766\n",
            "Name: proportion, dtype: float64\n",
            "\n",
            "Column: Central Air\n",
            "Central Air\n",
            "Y    93.287827\n",
            "N     6.712173\n",
            "Name: proportion, dtype: float64\n",
            "\n",
            "Column: Electrical\n",
            "Electrical\n",
            "SBrkr    91.543421\n",
            "FuseA     6.522564\n",
            "FuseF     1.592719\n",
            "FuseP     0.303375\n",
            "Mix       0.037922\n",
            "Name: proportion, dtype: float64\n",
            "\n",
            "Column: Kitchen Qual\n",
            "Kitchen Qual\n",
            "TA    50.891164\n",
            "Gd    39.893819\n",
            "Ex     6.977626\n",
            "Fa     2.237391\n",
            "Name: proportion, dtype: float64\n",
            "\n",
            "Column: Functional\n",
            "Functional\n",
            "Typ     93.022374\n",
            "Min2     2.389078\n",
            "Min1     2.199469\n",
            "Mod      1.213500\n",
            "Maj1     0.682594\n",
            "Maj2     0.341297\n",
            "Sal      0.075844\n",
            "Sev      0.075844\n",
            "Name: proportion, dtype: float64\n",
            "\n",
            "Column: Fireplace Qu\n",
            "Fireplace Qu\n",
            "Gd    49.889135\n",
            "TA    39.763489\n",
            "Fa     4.730229\n",
            "Po     3.325942\n",
            "Ex     2.291205\n",
            "Name: proportion, dtype: float64\n",
            "\n",
            "Column: Garage Type\n",
            "Garage Type\n",
            "Attchd     62.720706\n",
            "Detchd     28.170144\n",
            "BuiltIn     6.621188\n",
            "Basment     1.123596\n",
            "2Types      0.802568\n",
            "CarPort     0.561798\n",
            "Name: proportion, dtype: float64\n",
            "\n",
            "Column: Garage Finish\n",
            "Garage Finish\n",
            "Unf    44.417671\n",
            "RFn    29.317269\n",
            "Fin    26.265060\n",
            "Name: proportion, dtype: float64\n",
            "\n",
            "Column: Garage Qual\n",
            "Garage Qual\n",
            "TA    94.618474\n",
            "Fa     4.257028\n",
            "Gd     0.803213\n",
            "Po     0.200803\n",
            "Ex     0.120482\n",
            "Name: proportion, dtype: float64\n",
            "\n",
            "Column: Garage Cond\n",
            "Garage Cond\n",
            "TA    96.385542\n",
            "Fa     2.409639\n",
            "Gd     0.562249\n",
            "Po     0.562249\n",
            "Ex     0.080321\n",
            "Name: proportion, dtype: float64\n",
            "\n",
            "Column: Paved Drive\n",
            "Paved Drive\n",
            "Y    90.822905\n",
            "N     7.091392\n",
            "P     2.085703\n",
            "Name: proportion, dtype: float64\n",
            "\n",
            "Column: Pool QC\n",
            "Pool QC\n",
            "Gd    36.363636\n",
            "Ex    27.272727\n",
            "Fa    18.181818\n",
            "TA    18.181818\n",
            "Name: proportion, dtype: float64\n",
            "\n",
            "Column: Fence\n",
            "Fence\n",
            "MnPrv    57.954545\n",
            "GdPrv    20.454545\n",
            "GdWo     19.507576\n",
            "MnWw      2.083333\n",
            "Name: proportion, dtype: float64\n",
            "\n",
            "Column: Misc Feature\n",
            "Misc Feature\n",
            "Shed    90.625000\n",
            "Gar2     4.166667\n",
            "Othr     4.166667\n",
            "TenC     1.041667\n",
            "Name: proportion, dtype: float64\n",
            "\n",
            "Column: Sale Type\n",
            "Sale Type\n",
            "WD       86.689420\n",
            "New       8.191126\n",
            "COD       2.957907\n",
            "ConLD     0.796359\n",
            "CWD       0.417141\n",
            "ConLI     0.265453\n",
            "ConLw     0.227531\n",
            "Oth       0.227531\n",
            "Con       0.189609\n",
            "VWD       0.037922\n",
            "Name: proportion, dtype: float64\n",
            "\n",
            "Column: Sale Condition\n",
            "Sale Condition\n",
            "Normal     82.138794\n",
            "Partial     8.418658\n",
            "Abnorml     6.598407\n",
            "Family      1.668563\n",
            "Alloca      0.796359\n",
            "AdjLand     0.379219\n",
            "Name: proportion, dtype: float64\n"
          ]
        }
      ],
      "source": [
        "# Print value counts and percentages for each categorical column\n",
        "for col in categorical_cols:\n",
        "    print(f\"\\nColumn: {col}\")\n",
        "    print(df[col].value_counts(normalize=True) * 100)\n"
      ]
    },
    {
      "cell_type": "markdown",
      "metadata": {
        "id": "3FNoPOwrECqd"
      },
      "source": [
        "### Examination of categorical variables"
      ]
    },
    {
      "cell_type": "code",
      "execution_count": 40,
      "metadata": {
        "colab": {
          "base_uri": "https://localhost:8080/"
        },
        "id": "E1lhK85REHqx",
        "outputId": "60ced0fd-7beb-4abc-ce2c-fac3c3db693f"
      },
      "outputs": [
        {
          "output_type": "stream",
          "name": "stdout",
          "text": [
            "\n",
            "Column: MS Zoning\n",
            "Number of unique values: 7\n",
            "Most common values:\n",
            "MS Zoning\n",
            "RL         0.774744\n",
            "RM         0.158893\n",
            "FV         0.046644\n",
            "C (all)    0.009480\n",
            "RH         0.008722\n",
            "Name: proportion, dtype: float64\n",
            "Warning: MS Zoning has more than 50 unique values\n",
            "\n",
            "Column: Street\n",
            "Number of unique values: 2\n",
            "Most common values:\n",
            "Street\n",
            "Pave    0.995449\n",
            "Grvl    0.004551\n",
            "Name: proportion, dtype: float64\n",
            "Warning: Street has more than 50 unique values\n",
            "Warning: Street is highly imbalanced\n",
            "\n",
            "Column: Alley\n",
            "Number of unique values: 3\n",
            "Most common values:\n",
            "Alley\n",
            "Grvl    0.616667\n",
            "Pave    0.383333\n",
            "Name: proportion, dtype: float64\n",
            "Warning: Alley has more than 50 unique values\n",
            "\n",
            "Column: Lot Shape\n",
            "Number of unique values: 4\n",
            "Most common values:\n",
            "Lot Shape\n",
            "Reg    0.630262\n",
            "IR1    0.339401\n",
            "IR2    0.024649\n",
            "IR3    0.005688\n",
            "Name: proportion, dtype: float64\n",
            "Warning: Lot Shape has more than 50 unique values\n",
            "\n",
            "Column: Land Contour\n",
            "Number of unique values: 4\n",
            "Most common values:\n",
            "Land Contour\n",
            "Lvl    0.896852\n",
            "HLS    0.042093\n",
            "Bnk    0.040197\n",
            "Low    0.020857\n",
            "Name: proportion, dtype: float64\n",
            "Warning: Land Contour has more than 50 unique values\n",
            "\n",
            "Column: Utilities\n",
            "Number of unique values: 3\n",
            "Most common values:\n",
            "Utilities\n",
            "AllPub    0.998862\n",
            "NoSewr    0.000758\n",
            "NoSeWa    0.000379\n",
            "Name: proportion, dtype: float64\n",
            "Warning: Utilities has more than 50 unique values\n",
            "Warning: Utilities is highly imbalanced\n",
            "\n",
            "Column: Lot Config\n",
            "Number of unique values: 5\n",
            "Most common values:\n",
            "Lot Config\n",
            "Inside     0.729617\n",
            "Corner     0.174061\n",
            "CulDSac    0.060675\n",
            "FR2        0.030717\n",
            "FR3        0.004930\n",
            "Name: proportion, dtype: float64\n",
            "Warning: Lot Config has more than 50 unique values\n",
            "\n",
            "Column: Land Slope\n",
            "Number of unique values: 3\n",
            "Most common values:\n",
            "Land Slope\n",
            "Gtl    0.952218\n",
            "Mod    0.042473\n",
            "Sev    0.005309\n",
            "Name: proportion, dtype: float64\n",
            "Warning: Land Slope has more than 50 unique values\n",
            "Warning: Land Slope is highly imbalanced\n",
            "\n",
            "Column: Neighborhood\n",
            "Number of unique values: 28\n",
            "Most common values:\n",
            "Neighborhood\n",
            "NAmes      0.150550\n",
            "CollgCr    0.091013\n",
            "OldTown    0.082670\n",
            "Edwards    0.063709\n",
            "Somerst    0.061054\n",
            "Name: proportion, dtype: float64\n",
            "Warning: Neighborhood has more than 50 unique values\n",
            "\n",
            "Column: Condition 1\n",
            "Number of unique values: 9\n",
            "Most common values:\n",
            "Condition 1\n",
            "Norm      0.861964\n",
            "Feedr     0.056124\n",
            "Artery    0.031475\n",
            "RRAn      0.015927\n",
            "PosN      0.012135\n",
            "Name: proportion, dtype: float64\n",
            "Warning: Condition 1 has more than 50 unique values\n",
            "\n",
            "Column: Condition 2\n",
            "Number of unique values: 8\n",
            "Most common values:\n",
            "Condition 2\n",
            "Norm      0.989382\n",
            "Feedr     0.004171\n",
            "Artery    0.001896\n",
            "PosA      0.001517\n",
            "PosN      0.001517\n",
            "Name: proportion, dtype: float64\n",
            "Warning: Condition 2 has more than 50 unique values\n",
            "Warning: Condition 2 is highly imbalanced\n",
            "\n",
            "Column: Bldg Type\n",
            "Number of unique values: 5\n",
            "Most common values:\n",
            "Bldg Type\n",
            "1Fam      0.829352\n",
            "TwnhsE    0.079636\n",
            "Duplex    0.036026\n",
            "Twnhs     0.034130\n",
            "2fmCon    0.020857\n",
            "Name: proportion, dtype: float64\n",
            "Warning: Bldg Type has more than 50 unique values\n",
            "\n",
            "Column: House Style\n",
            "Number of unique values: 8\n",
            "Most common values:\n",
            "House Style\n",
            "1Story    0.503223\n",
            "2Story    0.303375\n",
            "1.5Fin    0.104664\n",
            "SLvl      0.042852\n",
            "SFoyer    0.028821\n",
            "Name: proportion, dtype: float64\n",
            "Warning: House Style has more than 50 unique values\n",
            "\n",
            "Column: Roof Style\n",
            "Number of unique values: 6\n",
            "Most common values:\n",
            "Roof Style\n",
            "Gable      0.791050\n",
            "Hip        0.188851\n",
            "Gambrel    0.007964\n",
            "Flat       0.006826\n",
            "Mansard    0.003413\n",
            "Name: proportion, dtype: float64\n",
            "Warning: Roof Style has more than 50 unique values\n",
            "\n",
            "Column: Roof Matl\n",
            "Number of unique values: 8\n",
            "Most common values:\n",
            "Roof Matl\n",
            "CompShg    0.985590\n",
            "Tar&Grv    0.007584\n",
            "WdShake    0.003034\n",
            "WdShngl    0.002275\n",
            "ClyTile    0.000379\n",
            "Name: proportion, dtype: float64\n",
            "Warning: Roof Matl has more than 50 unique values\n",
            "Warning: Roof Matl is highly imbalanced\n",
            "\n",
            "Column: Exterior 1st\n",
            "Number of unique values: 16\n",
            "Most common values:\n",
            "Exterior 1st\n",
            "VinylSd    0.347364\n",
            "MetalSd    0.155859\n",
            "HdBoard    0.152825\n",
            "Wd Sdng    0.144103\n",
            "Plywood    0.073948\n",
            "Name: proportion, dtype: float64\n",
            "Warning: Exterior 1st has more than 50 unique values\n",
            "\n",
            "Column: Exterior 2nd\n",
            "Number of unique values: 17\n",
            "Most common values:\n",
            "Exterior 2nd\n",
            "VinylSd    0.343572\n",
            "MetalSd    0.154721\n",
            "HdBoard    0.139553\n",
            "Wd Sdng    0.133864\n",
            "Plywood    0.092529\n",
            "Name: proportion, dtype: float64\n",
            "Warning: Exterior 2nd has more than 50 unique values\n",
            "\n",
            "Column: Mas Vnr Type\n",
            "Number of unique values: 6\n",
            "Most common values:\n",
            "Mas Vnr Type\n",
            "None       0.605968\n",
            "BrkFace    0.299158\n",
            "Stone      0.085692\n",
            "BrkCmn     0.008799\n",
            "CBlock     0.000383\n",
            "Name: proportion, dtype: float64\n",
            "Warning: Mas Vnr Type has more than 50 unique values\n",
            "\n",
            "Column: Exter Qual\n",
            "Number of unique values: 4\n",
            "Most common values:\n",
            "Exter Qual\n",
            "TA    0.612059\n",
            "Gd    0.339022\n",
            "Ex    0.036405\n",
            "Fa    0.012514\n",
            "Name: proportion, dtype: float64\n",
            "Warning: Exter Qual has more than 50 unique values\n",
            "\n",
            "Column: Exter Cond\n",
            "Number of unique values: 5\n",
            "Most common values:\n",
            "Exter Cond\n",
            "TA    0.868411\n",
            "Gd    0.103527\n",
            "Fa    0.023512\n",
            "Ex    0.003413\n",
            "Po    0.001138\n",
            "Name: proportion, dtype: float64\n",
            "Warning: Exter Cond has more than 50 unique values\n",
            "\n",
            "Column: Foundation\n",
            "Number of unique values: 6\n",
            "Most common values:\n",
            "Foundation\n",
            "PConc     0.449374\n",
            "CBlock    0.423208\n",
            "BrkTil    0.105423\n",
            "Slab      0.016686\n",
            "Stone     0.004171\n",
            "Name: proportion, dtype: float64\n",
            "Warning: Foundation has more than 50 unique values\n",
            "\n",
            "Column: Bsmt Qual\n",
            "Number of unique values: 6\n",
            "Most common values:\n",
            "Bsmt Qual\n",
            "TA    0.452808\n",
            "Gd    0.426287\n",
            "Ex    0.089314\n",
            "Fa    0.030811\n",
            "Po    0.000780\n",
            "Name: proportion, dtype: float64\n",
            "Warning: Bsmt Qual has more than 50 unique values\n",
            "\n",
            "Column: Bsmt Cond\n",
            "Number of unique values: 6\n",
            "Most common values:\n",
            "Bsmt Cond\n",
            "TA    0.919657\n",
            "Gd    0.041732\n",
            "Fa    0.035881\n",
            "Po    0.001950\n",
            "Ex    0.000780\n",
            "Name: proportion, dtype: float64\n",
            "Warning: Bsmt Cond has more than 50 unique values\n",
            "\n",
            "Column: Bsmt Exposure\n",
            "Number of unique values: 5\n",
            "Most common values:\n",
            "Bsmt Exposure\n",
            "No    0.672394\n",
            "Av    0.146427\n",
            "Gd    0.096837\n",
            "Mn    0.084342\n",
            "Name: proportion, dtype: float64\n",
            "Warning: Bsmt Exposure has more than 50 unique values\n",
            "\n",
            "Column: BsmtFin Type 1\n",
            "Number of unique values: 7\n",
            "Most common values:\n",
            "BsmtFin Type 1\n",
            "Unf    0.299532\n",
            "GLQ    0.295632\n",
            "ALQ    0.154836\n",
            "Rec    0.102184\n",
            "BLQ    0.092434\n",
            "Name: proportion, dtype: float64\n",
            "Warning: BsmtFin Type 1 has more than 50 unique values\n",
            "\n",
            "Column: BsmtFin Type 2\n",
            "Number of unique values: 7\n",
            "Most common values:\n",
            "BsmtFin Type 2\n",
            "Unf    0.875927\n",
            "Rec    0.039017\n",
            "LwQ    0.029653\n",
            "BLQ    0.023410\n",
            "ALQ    0.019508\n",
            "Name: proportion, dtype: float64\n",
            "Warning: BsmtFin Type 2 has more than 50 unique values\n",
            "\n",
            "Column: Heating\n",
            "Number of unique values: 6\n",
            "Most common values:\n",
            "Heating\n",
            "GasA    0.984831\n",
            "GasW    0.008722\n",
            "Grav    0.003413\n",
            "Wall    0.001896\n",
            "OthW    0.000758\n",
            "Name: proportion, dtype: float64\n",
            "Warning: Heating has more than 50 unique values\n",
            "Warning: Heating is highly imbalanced\n",
            "\n",
            "Column: Heating QC\n",
            "Number of unique values: 5\n",
            "Most common values:\n",
            "Heating QC\n",
            "Ex    0.513841\n",
            "TA    0.295032\n",
            "Gd    0.158893\n",
            "Fa    0.031096\n",
            "Po    0.001138\n",
            "Name: proportion, dtype: float64\n",
            "Warning: Heating QC has more than 50 unique values\n",
            "\n",
            "Column: Central Air\n",
            "Number of unique values: 2\n",
            "Most common values:\n",
            "Central Air\n",
            "Y    0.932878\n",
            "N    0.067122\n",
            "Name: proportion, dtype: float64\n",
            "Warning: Central Air has more than 50 unique values\n",
            "\n",
            "Column: Electrical\n",
            "Number of unique values: 5\n",
            "Most common values:\n",
            "Electrical\n",
            "SBrkr    0.915434\n",
            "FuseA    0.065226\n",
            "FuseF    0.015927\n",
            "FuseP    0.003034\n",
            "Mix      0.000379\n",
            "Name: proportion, dtype: float64\n",
            "Warning: Electrical has more than 50 unique values\n",
            "\n",
            "Column: Kitchen Qual\n",
            "Number of unique values: 4\n",
            "Most common values:\n",
            "Kitchen Qual\n",
            "TA    0.508912\n",
            "Gd    0.398938\n",
            "Ex    0.069776\n",
            "Fa    0.022374\n",
            "Name: proportion, dtype: float64\n",
            "Warning: Kitchen Qual has more than 50 unique values\n",
            "\n",
            "Column: Functional\n",
            "Number of unique values: 8\n",
            "Most common values:\n",
            "Functional\n",
            "Typ     0.930224\n",
            "Min2    0.023891\n",
            "Min1    0.021995\n",
            "Mod     0.012135\n",
            "Maj1    0.006826\n",
            "Name: proportion, dtype: float64\n",
            "Warning: Functional has more than 50 unique values\n",
            "\n",
            "Column: Fireplace Qu\n",
            "Number of unique values: 6\n",
            "Most common values:\n",
            "Fireplace Qu\n",
            "Gd    0.498891\n",
            "TA    0.397635\n",
            "Fa    0.047302\n",
            "Po    0.033259\n",
            "Ex    0.022912\n",
            "Name: proportion, dtype: float64\n",
            "Warning: Fireplace Qu has more than 50 unique values\n",
            "\n",
            "Column: Garage Type\n",
            "Number of unique values: 7\n",
            "Most common values:\n",
            "Garage Type\n",
            "Attchd     0.627207\n",
            "Detchd     0.281701\n",
            "BuiltIn    0.066212\n",
            "Basment    0.011236\n",
            "2Types     0.008026\n",
            "Name: proportion, dtype: float64\n",
            "Warning: Garage Type has more than 50 unique values\n",
            "\n",
            "Column: Garage Finish\n",
            "Number of unique values: 4\n",
            "Most common values:\n",
            "Garage Finish\n",
            "Unf    0.444177\n",
            "RFn    0.293173\n",
            "Fin    0.262651\n",
            "Name: proportion, dtype: float64\n",
            "Warning: Garage Finish has more than 50 unique values\n",
            "\n",
            "Column: Garage Qual\n",
            "Number of unique values: 6\n",
            "Most common values:\n",
            "Garage Qual\n",
            "TA    0.946185\n",
            "Fa    0.042570\n",
            "Gd    0.008032\n",
            "Po    0.002008\n",
            "Ex    0.001205\n",
            "Name: proportion, dtype: float64\n",
            "Warning: Garage Qual has more than 50 unique values\n",
            "\n",
            "Column: Garage Cond\n",
            "Number of unique values: 6\n",
            "Most common values:\n",
            "Garage Cond\n",
            "TA    0.963855\n",
            "Fa    0.024096\n",
            "Gd    0.005622\n",
            "Po    0.005622\n",
            "Ex    0.000803\n",
            "Name: proportion, dtype: float64\n",
            "Warning: Garage Cond has more than 50 unique values\n",
            "Warning: Garage Cond is highly imbalanced\n",
            "\n",
            "Column: Paved Drive\n",
            "Number of unique values: 3\n",
            "Most common values:\n",
            "Paved Drive\n",
            "Y    0.908229\n",
            "N    0.070914\n",
            "P    0.020857\n",
            "Name: proportion, dtype: float64\n",
            "Warning: Paved Drive has more than 50 unique values\n",
            "\n",
            "Column: Pool QC\n",
            "Number of unique values: 5\n",
            "Most common values:\n",
            "Pool QC\n",
            "Gd    0.363636\n",
            "Ex    0.272727\n",
            "Fa    0.181818\n",
            "TA    0.181818\n",
            "Name: proportion, dtype: float64\n",
            "Warning: Pool QC has more than 50 unique values\n",
            "\n",
            "Column: Fence\n",
            "Number of unique values: 5\n",
            "Most common values:\n",
            "Fence\n",
            "MnPrv    0.579545\n",
            "GdPrv    0.204545\n",
            "GdWo     0.195076\n",
            "MnWw     0.020833\n",
            "Name: proportion, dtype: float64\n",
            "Warning: Fence has more than 50 unique values\n",
            "\n",
            "Column: Misc Feature\n",
            "Number of unique values: 5\n",
            "Most common values:\n",
            "Misc Feature\n",
            "Shed    0.906250\n",
            "Gar2    0.041667\n",
            "Othr    0.041667\n",
            "TenC    0.010417\n",
            "Name: proportion, dtype: float64\n",
            "Warning: Misc Feature has more than 50 unique values\n",
            "\n",
            "Column: Sale Type\n",
            "Number of unique values: 10\n",
            "Most common values:\n",
            "Sale Type\n",
            "WD       0.866894\n",
            "New      0.081911\n",
            "COD      0.029579\n",
            "ConLD    0.007964\n",
            "CWD      0.004171\n",
            "Name: proportion, dtype: float64\n",
            "Warning: Sale Type has more than 50 unique values\n",
            "\n",
            "Column: Sale Condition\n",
            "Number of unique values: 6\n",
            "Most common values:\n",
            "Sale Condition\n",
            "Normal     0.821388\n",
            "Partial    0.084187\n",
            "Abnorml    0.065984\n",
            "Family     0.016686\n",
            "Alloca     0.007964\n",
            "Name: proportion, dtype: float64\n",
            "Warning: Sale Condition has more than 50 unique values\n"
          ]
        }
      ],
      "source": [
        "# Examine categorical variables\n",
        "for col in categorical_cols:\n",
        "    print(f\"\\nColumn: {col}\")\n",
        "    print(f\"Number of unique values: {len(df_1[col].unique())}\")\n",
        "    print(f\"Most common values:\")\n",
        "    print(df_1[col].value_counts(normalize=True).head())\n",
        "\n",
        "    # Check if the column has too many unique values\n",
        "    if len(df_1[col]) > 50:\n",
        "        print(f\"Warning: {col} has more than 50 unique values\")\n",
        "\n",
        "    # Check if the column is highly imbalanced\n",
        "    if df_1[col].value_counts(normalize=True).max() > 0.95:\n",
        "        print(f\"Warning: {col} is highly imbalanced\")\n"
      ]
    },
    {
      "cell_type": "markdown",
      "metadata": {
        "id": "mSIQcLvlE6Sm"
      },
      "source": [
        "#"
      ]
    },
    {
      "cell_type": "markdown",
      "metadata": {
        "id": "H7yq1mvhFATO"
      },
      "source": [
        "# 4- Data Cleaning"
      ]
    },
    {
      "cell_type": "markdown",
      "metadata": {
        "id": "6DWpA9BKF6j5"
      },
      "source": [
        "### isolate Float64 data columns"
      ]
    },
    {
      "cell_type": "code",
      "execution_count": 41,
      "metadata": {
        "colab": {
          "base_uri": "https://localhost:8080/",
          "height": 338
        },
        "id": "oALCfHUcFHCp",
        "outputId": "11fe7465-2ac9-4cb1-a3c6-87019f122b88"
      },
      "outputs": [
        {
          "output_type": "execute_result",
          "data": {
            "text/plain": [
              "       Lot Frontage  Mas Vnr Area  BsmtFin SF 1  BsmtFin SF 2  Bsmt Unf SF  \\\n",
              "count   2637.000000   2637.000000   2637.000000   2637.000000  2637.000000   \n",
              "mean      69.166819    101.887911    438.441199     51.068665   555.669196   \n",
              "std       23.356779    179.578232    449.602326    172.521803   436.223188   \n",
              "min       21.000000      0.000000      0.000000      0.000000     0.000000   \n",
              "25%       60.000000      0.000000      0.000000      0.000000   218.000000   \n",
              "50%       73.000000      0.000000    368.000000      0.000000   465.000000   \n",
              "75%       95.000000    170.000000    732.000000      0.000000   798.000000   \n",
              "max      313.000000   1600.000000   5644.000000   1526.000000  2336.000000   \n",
              "\n",
              "       Total Bsmt SF  Bsmt Full Bath  Bsmt Half Bath  Garage Yr Blt  \\\n",
              "count    2637.000000     2637.000000     2637.000000    2637.000000   \n",
              "mean     1045.179059        0.432258        0.058824    1978.185944   \n",
              "std       429.686089        0.525239        0.240130      25.452647   \n",
              "min         0.000000        0.000000        0.000000    1895.000000   \n",
              "25%       792.000000        0.000000        0.000000    1962.000000   \n",
              "50%       988.000000        0.000000        0.000000    1983.000000   \n",
              "75%      1291.000000        1.000000        0.000000    2003.000000   \n",
              "max      6110.000000        3.000000        2.000000    2207.000000   \n",
              "\n",
              "       Garage Cars  Garage Area  \n",
              "count  2637.000000  2637.000000  \n",
              "mean      1.763278   470.968134  \n",
              "std       0.760576   212.816905  \n",
              "min       0.000000     0.000000  \n",
              "25%       1.000000   325.000000  \n",
              "50%       2.000000   480.000000  \n",
              "75%       2.000000   576.000000  \n",
              "max       5.000000  1488.000000  "
            ],
            "text/html": [
              "\n",
              "  <div id=\"df-bfc322eb-84ec-4e9c-b4b6-2e854a6e1991\" class=\"colab-df-container\">\n",
              "    <div>\n",
              "<style scoped>\n",
              "    .dataframe tbody tr th:only-of-type {\n",
              "        vertical-align: middle;\n",
              "    }\n",
              "\n",
              "    .dataframe tbody tr th {\n",
              "        vertical-align: top;\n",
              "    }\n",
              "\n",
              "    .dataframe thead th {\n",
              "        text-align: right;\n",
              "    }\n",
              "</style>\n",
              "<table border=\"1\" class=\"dataframe\">\n",
              "  <thead>\n",
              "    <tr style=\"text-align: right;\">\n",
              "      <th></th>\n",
              "      <th>Lot Frontage</th>\n",
              "      <th>Mas Vnr Area</th>\n",
              "      <th>BsmtFin SF 1</th>\n",
              "      <th>BsmtFin SF 2</th>\n",
              "      <th>Bsmt Unf SF</th>\n",
              "      <th>Total Bsmt SF</th>\n",
              "      <th>Bsmt Full Bath</th>\n",
              "      <th>Bsmt Half Bath</th>\n",
              "      <th>Garage Yr Blt</th>\n",
              "      <th>Garage Cars</th>\n",
              "      <th>Garage Area</th>\n",
              "    </tr>\n",
              "  </thead>\n",
              "  <tbody>\n",
              "    <tr>\n",
              "      <th>count</th>\n",
              "      <td>2637.000000</td>\n",
              "      <td>2637.000000</td>\n",
              "      <td>2637.000000</td>\n",
              "      <td>2637.000000</td>\n",
              "      <td>2637.000000</td>\n",
              "      <td>2637.000000</td>\n",
              "      <td>2637.000000</td>\n",
              "      <td>2637.000000</td>\n",
              "      <td>2637.000000</td>\n",
              "      <td>2637.000000</td>\n",
              "      <td>2637.000000</td>\n",
              "    </tr>\n",
              "    <tr>\n",
              "      <th>mean</th>\n",
              "      <td>69.166819</td>\n",
              "      <td>101.887911</td>\n",
              "      <td>438.441199</td>\n",
              "      <td>51.068665</td>\n",
              "      <td>555.669196</td>\n",
              "      <td>1045.179059</td>\n",
              "      <td>0.432258</td>\n",
              "      <td>0.058824</td>\n",
              "      <td>1978.185944</td>\n",
              "      <td>1.763278</td>\n",
              "      <td>470.968134</td>\n",
              "    </tr>\n",
              "    <tr>\n",
              "      <th>std</th>\n",
              "      <td>23.356779</td>\n",
              "      <td>179.578232</td>\n",
              "      <td>449.602326</td>\n",
              "      <td>172.521803</td>\n",
              "      <td>436.223188</td>\n",
              "      <td>429.686089</td>\n",
              "      <td>0.525239</td>\n",
              "      <td>0.240130</td>\n",
              "      <td>25.452647</td>\n",
              "      <td>0.760576</td>\n",
              "      <td>212.816905</td>\n",
              "    </tr>\n",
              "    <tr>\n",
              "      <th>min</th>\n",
              "      <td>21.000000</td>\n",
              "      <td>0.000000</td>\n",
              "      <td>0.000000</td>\n",
              "      <td>0.000000</td>\n",
              "      <td>0.000000</td>\n",
              "      <td>0.000000</td>\n",
              "      <td>0.000000</td>\n",
              "      <td>0.000000</td>\n",
              "      <td>1895.000000</td>\n",
              "      <td>0.000000</td>\n",
              "      <td>0.000000</td>\n",
              "    </tr>\n",
              "    <tr>\n",
              "      <th>25%</th>\n",
              "      <td>60.000000</td>\n",
              "      <td>0.000000</td>\n",
              "      <td>0.000000</td>\n",
              "      <td>0.000000</td>\n",
              "      <td>218.000000</td>\n",
              "      <td>792.000000</td>\n",
              "      <td>0.000000</td>\n",
              "      <td>0.000000</td>\n",
              "      <td>1962.000000</td>\n",
              "      <td>1.000000</td>\n",
              "      <td>325.000000</td>\n",
              "    </tr>\n",
              "    <tr>\n",
              "      <th>50%</th>\n",
              "      <td>73.000000</td>\n",
              "      <td>0.000000</td>\n",
              "      <td>368.000000</td>\n",
              "      <td>0.000000</td>\n",
              "      <td>465.000000</td>\n",
              "      <td>988.000000</td>\n",
              "      <td>0.000000</td>\n",
              "      <td>0.000000</td>\n",
              "      <td>1983.000000</td>\n",
              "      <td>2.000000</td>\n",
              "      <td>480.000000</td>\n",
              "    </tr>\n",
              "    <tr>\n",
              "      <th>75%</th>\n",
              "      <td>95.000000</td>\n",
              "      <td>170.000000</td>\n",
              "      <td>732.000000</td>\n",
              "      <td>0.000000</td>\n",
              "      <td>798.000000</td>\n",
              "      <td>1291.000000</td>\n",
              "      <td>1.000000</td>\n",
              "      <td>0.000000</td>\n",
              "      <td>2003.000000</td>\n",
              "      <td>2.000000</td>\n",
              "      <td>576.000000</td>\n",
              "    </tr>\n",
              "    <tr>\n",
              "      <th>max</th>\n",
              "      <td>313.000000</td>\n",
              "      <td>1600.000000</td>\n",
              "      <td>5644.000000</td>\n",
              "      <td>1526.000000</td>\n",
              "      <td>2336.000000</td>\n",
              "      <td>6110.000000</td>\n",
              "      <td>3.000000</td>\n",
              "      <td>2.000000</td>\n",
              "      <td>2207.000000</td>\n",
              "      <td>5.000000</td>\n",
              "      <td>1488.000000</td>\n",
              "    </tr>\n",
              "  </tbody>\n",
              "</table>\n",
              "</div>\n",
              "    <div class=\"colab-df-buttons\">\n",
              "\n",
              "  <div class=\"colab-df-container\">\n",
              "    <button class=\"colab-df-convert\" onclick=\"convertToInteractive('df-bfc322eb-84ec-4e9c-b4b6-2e854a6e1991')\"\n",
              "            title=\"Convert this dataframe to an interactive table.\"\n",
              "            style=\"display:none;\">\n",
              "\n",
              "  <svg xmlns=\"http://www.w3.org/2000/svg\" height=\"24px\" viewBox=\"0 -960 960 960\">\n",
              "    <path d=\"M120-120v-720h720v720H120Zm60-500h600v-160H180v160Zm220 220h160v-160H400v160Zm0 220h160v-160H400v160ZM180-400h160v-160H180v160Zm440 0h160v-160H620v160ZM180-180h160v-160H180v160Zm440 0h160v-160H620v160Z\"/>\n",
              "  </svg>\n",
              "    </button>\n",
              "\n",
              "  <style>\n",
              "    .colab-df-container {\n",
              "      display:flex;\n",
              "      gap: 12px;\n",
              "    }\n",
              "\n",
              "    .colab-df-convert {\n",
              "      background-color: #E8F0FE;\n",
              "      border: none;\n",
              "      border-radius: 50%;\n",
              "      cursor: pointer;\n",
              "      display: none;\n",
              "      fill: #1967D2;\n",
              "      height: 32px;\n",
              "      padding: 0 0 0 0;\n",
              "      width: 32px;\n",
              "    }\n",
              "\n",
              "    .colab-df-convert:hover {\n",
              "      background-color: #E2EBFA;\n",
              "      box-shadow: 0px 1px 2px rgba(60, 64, 67, 0.3), 0px 1px 3px 1px rgba(60, 64, 67, 0.15);\n",
              "      fill: #174EA6;\n",
              "    }\n",
              "\n",
              "    .colab-df-buttons div {\n",
              "      margin-bottom: 4px;\n",
              "    }\n",
              "\n",
              "    [theme=dark] .colab-df-convert {\n",
              "      background-color: #3B4455;\n",
              "      fill: #D2E3FC;\n",
              "    }\n",
              "\n",
              "    [theme=dark] .colab-df-convert:hover {\n",
              "      background-color: #434B5C;\n",
              "      box-shadow: 0px 1px 3px 1px rgba(0, 0, 0, 0.15);\n",
              "      filter: drop-shadow(0px 1px 2px rgba(0, 0, 0, 0.3));\n",
              "      fill: #FFFFFF;\n",
              "    }\n",
              "  </style>\n",
              "\n",
              "    <script>\n",
              "      const buttonEl =\n",
              "        document.querySelector('#df-bfc322eb-84ec-4e9c-b4b6-2e854a6e1991 button.colab-df-convert');\n",
              "      buttonEl.style.display =\n",
              "        google.colab.kernel.accessAllowed ? 'block' : 'none';\n",
              "\n",
              "      async function convertToInteractive(key) {\n",
              "        const element = document.querySelector('#df-bfc322eb-84ec-4e9c-b4b6-2e854a6e1991');\n",
              "        const dataTable =\n",
              "          await google.colab.kernel.invokeFunction('convertToInteractive',\n",
              "                                                    [key], {});\n",
              "        if (!dataTable) return;\n",
              "\n",
              "        const docLinkHtml = 'Like what you see? Visit the ' +\n",
              "          '<a target=\"_blank\" href=https://colab.research.google.com/notebooks/data_table.ipynb>data table notebook</a>'\n",
              "          + ' to learn more about interactive tables.';\n",
              "        element.innerHTML = '';\n",
              "        dataTable['output_type'] = 'display_data';\n",
              "        await google.colab.output.renderOutput(dataTable, element);\n",
              "        const docLink = document.createElement('div');\n",
              "        docLink.innerHTML = docLinkHtml;\n",
              "        element.appendChild(docLink);\n",
              "      }\n",
              "    </script>\n",
              "  </div>\n",
              "\n",
              "\n",
              "<div id=\"df-8c26a55d-fc70-4d41-bb33-d1356dc025e7\">\n",
              "  <button class=\"colab-df-quickchart\" onclick=\"quickchart('df-8c26a55d-fc70-4d41-bb33-d1356dc025e7')\"\n",
              "            title=\"Suggest charts\"\n",
              "            style=\"display:none;\">\n",
              "\n",
              "<svg xmlns=\"http://www.w3.org/2000/svg\" height=\"24px\"viewBox=\"0 0 24 24\"\n",
              "     width=\"24px\">\n",
              "    <g>\n",
              "        <path d=\"M19 3H5c-1.1 0-2 .9-2 2v14c0 1.1.9 2 2 2h14c1.1 0 2-.9 2-2V5c0-1.1-.9-2-2-2zM9 17H7v-7h2v7zm4 0h-2V7h2v10zm4 0h-2v-4h2v4z\"/>\n",
              "    </g>\n",
              "</svg>\n",
              "  </button>\n",
              "\n",
              "<style>\n",
              "  .colab-df-quickchart {\n",
              "      --bg-color: #E8F0FE;\n",
              "      --fill-color: #1967D2;\n",
              "      --hover-bg-color: #E2EBFA;\n",
              "      --hover-fill-color: #174EA6;\n",
              "      --disabled-fill-color: #AAA;\n",
              "      --disabled-bg-color: #DDD;\n",
              "  }\n",
              "\n",
              "  [theme=dark] .colab-df-quickchart {\n",
              "      --bg-color: #3B4455;\n",
              "      --fill-color: #D2E3FC;\n",
              "      --hover-bg-color: #434B5C;\n",
              "      --hover-fill-color: #FFFFFF;\n",
              "      --disabled-bg-color: #3B4455;\n",
              "      --disabled-fill-color: #666;\n",
              "  }\n",
              "\n",
              "  .colab-df-quickchart {\n",
              "    background-color: var(--bg-color);\n",
              "    border: none;\n",
              "    border-radius: 50%;\n",
              "    cursor: pointer;\n",
              "    display: none;\n",
              "    fill: var(--fill-color);\n",
              "    height: 32px;\n",
              "    padding: 0;\n",
              "    width: 32px;\n",
              "  }\n",
              "\n",
              "  .colab-df-quickchart:hover {\n",
              "    background-color: var(--hover-bg-color);\n",
              "    box-shadow: 0 1px 2px rgba(60, 64, 67, 0.3), 0 1px 3px 1px rgba(60, 64, 67, 0.15);\n",
              "    fill: var(--button-hover-fill-color);\n",
              "  }\n",
              "\n",
              "  .colab-df-quickchart-complete:disabled,\n",
              "  .colab-df-quickchart-complete:disabled:hover {\n",
              "    background-color: var(--disabled-bg-color);\n",
              "    fill: var(--disabled-fill-color);\n",
              "    box-shadow: none;\n",
              "  }\n",
              "\n",
              "  .colab-df-spinner {\n",
              "    border: 2px solid var(--fill-color);\n",
              "    border-color: transparent;\n",
              "    border-bottom-color: var(--fill-color);\n",
              "    animation:\n",
              "      spin 1s steps(1) infinite;\n",
              "  }\n",
              "\n",
              "  @keyframes spin {\n",
              "    0% {\n",
              "      border-color: transparent;\n",
              "      border-bottom-color: var(--fill-color);\n",
              "      border-left-color: var(--fill-color);\n",
              "    }\n",
              "    20% {\n",
              "      border-color: transparent;\n",
              "      border-left-color: var(--fill-color);\n",
              "      border-top-color: var(--fill-color);\n",
              "    }\n",
              "    30% {\n",
              "      border-color: transparent;\n",
              "      border-left-color: var(--fill-color);\n",
              "      border-top-color: var(--fill-color);\n",
              "      border-right-color: var(--fill-color);\n",
              "    }\n",
              "    40% {\n",
              "      border-color: transparent;\n",
              "      border-right-color: var(--fill-color);\n",
              "      border-top-color: var(--fill-color);\n",
              "    }\n",
              "    60% {\n",
              "      border-color: transparent;\n",
              "      border-right-color: var(--fill-color);\n",
              "    }\n",
              "    80% {\n",
              "      border-color: transparent;\n",
              "      border-right-color: var(--fill-color);\n",
              "      border-bottom-color: var(--fill-color);\n",
              "    }\n",
              "    90% {\n",
              "      border-color: transparent;\n",
              "      border-bottom-color: var(--fill-color);\n",
              "    }\n",
              "  }\n",
              "</style>\n",
              "\n",
              "  <script>\n",
              "    async function quickchart(key) {\n",
              "      const quickchartButtonEl =\n",
              "        document.querySelector('#' + key + ' button');\n",
              "      quickchartButtonEl.disabled = true;  // To prevent multiple clicks.\n",
              "      quickchartButtonEl.classList.add('colab-df-spinner');\n",
              "      try {\n",
              "        const charts = await google.colab.kernel.invokeFunction(\n",
              "            'suggestCharts', [key], {});\n",
              "      } catch (error) {\n",
              "        console.error('Error during call to suggestCharts:', error);\n",
              "      }\n",
              "      quickchartButtonEl.classList.remove('colab-df-spinner');\n",
              "      quickchartButtonEl.classList.add('colab-df-quickchart-complete');\n",
              "    }\n",
              "    (() => {\n",
              "      let quickchartButtonEl =\n",
              "        document.querySelector('#df-8c26a55d-fc70-4d41-bb33-d1356dc025e7 button');\n",
              "      quickchartButtonEl.style.display =\n",
              "        google.colab.kernel.accessAllowed ? 'block' : 'none';\n",
              "    })();\n",
              "  </script>\n",
              "</div>\n",
              "\n",
              "    </div>\n",
              "  </div>\n"
            ],
            "application/vnd.google.colaboratory.intrinsic+json": {
              "type": "dataframe",
              "summary": "{\n  \"name\": \"df_float_1\",\n  \"rows\": 8,\n  \"fields\": [\n    {\n      \"column\": \"Lot Frontage\",\n      \"properties\": {\n        \"dtype\": \"number\",\n        \"std\": 904.0540943401226,\n        \"min\": 21.0,\n        \"max\": 2637.0,\n        \"num_unique_values\": 8,\n        \"samples\": [\n          95.0,\n          21.0,\n          2637.0\n        ],\n        \"semantic_type\": \"\",\n        \"description\": \"\"\n      }\n    },\n    {\n      \"column\": \"Mas Vnr Area\",\n      \"properties\": {\n        \"dtype\": \"number\",\n        \"std\": 988.3307818928864,\n        \"min\": 0.0,\n        \"max\": 2637.0,\n        \"num_unique_values\": 6,\n        \"samples\": [\n          0.0,\n          2637.0,\n          170.0\n        ],\n        \"semantic_type\": \"\",\n        \"description\": \"\"\n      }\n    },\n    {\n      \"column\": \"BsmtFin SF 1\",\n      \"properties\": {\n        \"dtype\": \"number\",\n        \"std\": 1952.7441889275467,\n        \"min\": 0.0,\n        \"max\": 5644.0,\n        \"num_unique_values\": 7,\n        \"samples\": [\n          5644.0,\n          0.0,\n          2637.0\n        ],\n        \"semantic_type\": \"\",\n        \"description\": \"\"\n      }\n    },\n    {\n      \"column\": \"BsmtFin SF 2\",\n      \"properties\": {\n        \"dtype\": \"number\",\n        \"std\": 993.5179047428022,\n        \"min\": 0.0,\n        \"max\": 2637.0,\n        \"num_unique_values\": 5,\n        \"samples\": [\n          0.0,\n          2637.0,\n          1526.0\n        ],\n        \"semantic_type\": \"\",\n        \"description\": \"\"\n      }\n    },\n    {\n      \"column\": \"Bsmt Unf SF\",\n      \"properties\": {\n        \"dtype\": \"number\",\n        \"std\": 991.3996419830271,\n        \"min\": 0.0,\n        \"max\": 2637.0,\n        \"num_unique_values\": 8,\n        \"samples\": [\n          798.0,\n          0.0,\n          2637.0\n        ],\n        \"semantic_type\": \"\",\n        \"description\": \"\"\n      }\n    },\n    {\n      \"column\": \"Total Bsmt SF\",\n      \"properties\": {\n        \"dtype\": \"number\",\n        \"std\": 1954.6813558403144,\n        \"min\": 0.0,\n        \"max\": 6110.0,\n        \"num_unique_values\": 8,\n        \"samples\": [\n          1291.0,\n          0.0,\n          2637.0\n        ],\n        \"semantic_type\": \"\",\n        \"description\": \"\"\n      }\n    },\n    {\n      \"column\": \"Bsmt Full Bath\",\n      \"properties\": {\n        \"dtype\": \"number\",\n        \"std\": 932.0704323270758,\n        \"min\": 0.0,\n        \"max\": 2637.0,\n        \"num_unique_values\": 6,\n        \"samples\": [\n          0.0,\n          2637.0,\n          1.0\n        ],\n        \"semantic_type\": \"\",\n        \"description\": \"\"\n      }\n    },\n    {\n      \"column\": \"Bsmt Half Bath\",\n      \"properties\": {\n        \"dtype\": \"number\",\n        \"std\": 932.2044296067784,\n        \"min\": 0.0,\n        \"max\": 2637.0,\n        \"num_unique_values\": 5,\n        \"samples\": [\n          0.0,\n          2637.0,\n          2.0\n        ],\n        \"semantic_type\": \"\",\n        \"description\": \"\"\n      }\n    },\n    {\n      \"column\": \"Garage Yr Blt\",\n      \"properties\": {\n        \"dtype\": \"number\",\n        \"std\": 769.6376410694072,\n        \"min\": 25.452647,\n        \"max\": 2637.0,\n        \"num_unique_values\": 8,\n        \"samples\": [\n          2003.0,\n          1895.0,\n          2637.0\n        ],\n        \"semantic_type\": \"\",\n        \"description\": \"\"\n      }\n    },\n    {\n      \"column\": \"Garage Cars\",\n      \"properties\": {\n        \"dtype\": \"number\",\n        \"std\": 931.688912368346,\n        \"min\": 0.0,\n        \"max\": 2637.0,\n        \"num_unique_values\": 7,\n        \"samples\": [\n          5.0,\n          0.0,\n          2637.0\n        ],\n        \"semantic_type\": \"\",\n        \"description\": \"\"\n      }\n    },\n    {\n      \"column\": \"Garage Area\",\n      \"properties\": {\n        \"dtype\": \"number\",\n        \"std\": 871.2582169867646,\n        \"min\": 0.0,\n        \"max\": 2637.0,\n        \"num_unique_values\": 8,\n        \"samples\": [\n          576.0,\n          0.0,\n          2637.0\n        ],\n        \"semantic_type\": \"\",\n        \"description\": \"\"\n      }\n    }\n  ]\n}"
            }
          },
          "metadata": {},
          "execution_count": 41
        }
      ],
      "source": [
        "# Get the names of the float columns\n",
        "float_columns = df_1.select_dtypes(include=['float64']).columns\n",
        "\n",
        "# Select the float columns from df_1\n",
        "df_float = df_1[float_columns]\n",
        "\n",
        "df_float_1 = df_float.copy()\n",
        "\n",
        "df_float_1.describe()"
      ]
    },
    {
      "cell_type": "markdown",
      "metadata": {
        "id": "wnrak5YiIYRK"
      },
      "source": [
        "### Cleaning null values"
      ]
    },
    {
      "cell_type": "code",
      "execution_count": 42,
      "metadata": {
        "colab": {
          "base_uri": "https://localhost:8080/"
        },
        "id": "yQ2o_im1H6RW",
        "outputId": "9ef7f071-1812-4f6c-99e8-8fe970551d3f"
      },
      "outputs": [
        {
          "output_type": "stream",
          "name": "stdout",
          "text": [
            "Lot Frontage      449\n",
            "Mas Vnr Area       23\n",
            "BsmtFin SF 1        1\n",
            "BsmtFin SF 2        1\n",
            "Bsmt Unf SF         1\n",
            "Total Bsmt SF       1\n",
            "Bsmt Full Bath      2\n",
            "Bsmt Half Bath      2\n",
            "Garage Yr Blt     147\n",
            "Garage Cars         1\n",
            "Garage Area         1\n",
            "dtype: int64\n"
          ]
        }
      ],
      "source": [
        "# Check for missing values\n",
        "print(df_float_1.isnull().sum())"
      ]
    },
    {
      "cell_type": "markdown",
      "metadata": {
        "id": "eNxdtGxwPofs"
      },
      "source": [
        "### dropping Lot Frontage with high number of null values"
      ]
    },
    {
      "cell_type": "code",
      "execution_count": 43,
      "metadata": {
        "colab": {
          "base_uri": "https://localhost:8080/"
        },
        "id": "58510tWWLSpO",
        "outputId": "98533e3f-e637-4f27-bb37-6aa8be767604"
      },
      "outputs": [
        {
          "output_type": "stream",
          "name": "stdout",
          "text": [
            "Mas Vnr Area       23\n",
            "BsmtFin SF 1        1\n",
            "BsmtFin SF 2        1\n",
            "Bsmt Unf SF         1\n",
            "Total Bsmt SF       1\n",
            "Bsmt Full Bath      2\n",
            "Bsmt Half Bath      2\n",
            "Garage Yr Blt     147\n",
            "Garage Cars         1\n",
            "Garage Area         1\n",
            "dtype: int64\n"
          ]
        }
      ],
      "source": [
        "# Remove 'Lot Frontage' column\n",
        "df_float_1 = df_float_1.drop('Lot Frontage', axis=1)\n",
        "\n",
        "# Check for missing values\n",
        "print(df_float_1.isnull().sum())"
      ]
    },
    {
      "cell_type": "markdown",
      "metadata": {
        "id": "k8kTt4WpPoAA"
      },
      "source": [
        "### Imputing data for the remainder of columns using looping method"
      ]
    },
    {
      "cell_type": "code",
      "execution_count": 44,
      "metadata": {
        "colab": {
          "base_uri": "https://localhost:8080/"
        },
        "id": "w1wqMR7hPz_S",
        "outputId": "7355d062-f720-4b17-c03e-6ea0c6b1329c"
      },
      "outputs": [
        {
          "output_type": "stream",
          "name": "stdout",
          "text": [
            "Mas Vnr Area      0\n",
            "BsmtFin SF 1      0\n",
            "BsmtFin SF 2      0\n",
            "Bsmt Unf SF       0\n",
            "Total Bsmt SF     0\n",
            "Bsmt Full Bath    0\n",
            "Bsmt Half Bath    0\n",
            "Garage Yr Blt     0\n",
            "Garage Cars       0\n",
            "Garage Area       0\n",
            "dtype: int64\n"
          ]
        }
      ],
      "source": [
        "# Replace missing values with the mean of each column\n",
        "for col in df_float_1.columns:\n",
        "    df_float_1[col] = df_float_1[col].fillna(df_float_1[col].mean())\n",
        "\n",
        "# Verify that there are no more missing values\n",
        "print(df_float_1.isnull().sum())"
      ]
    },
    {
      "cell_type": "code",
      "execution_count": 45,
      "metadata": {
        "id": "iXGGeJO2rZB-"
      },
      "outputs": [],
      "source": [
        "features_for_correlation = df_float_1.copy()"
      ]
    },
    {
      "cell_type": "markdown",
      "metadata": {
        "id": "rj2eSqgmP2gN"
      },
      "source": [
        "### preparing cleaned feature data for feature correlation"
      ]
    },
    {
      "cell_type": "code",
      "execution_count": 46,
      "metadata": {
        "colab": {
          "base_uri": "https://localhost:8080/"
        },
        "id": "7G20b75mOUas",
        "outputId": "5e036261-7543-481f-fd03-b898202a2bfa"
      },
      "outputs": [
        {
          "output_type": "stream",
          "name": "stdout",
          "text": [
            "Shape of df_float_1 after adding SalePrice: (2637, 11)\n",
            "Columns in features_for_correlation\n",
            "Index(['Mas Vnr Area', 'BsmtFin SF 1', 'BsmtFin SF 2', 'Bsmt Unf SF',\n",
            "       'Total Bsmt SF', 'Bsmt Full Bath', 'Bsmt Half Bath', 'Garage Yr Blt',\n",
            "       'Garage Cars', 'Garage Area', 'SalePrice'],\n",
            "      dtype='object')\n"
          ]
        }
      ],
      "source": [
        "# Ensure SalePrice is in df_1\n",
        "if 'SalePrice' not in df_1:\n",
        "    print(\"SalePrice not found in df_1. Please check your data.\")\n",
        "else:\n",
        "    # Concatenate df_float_1 with SalePrice\n",
        "    features_for_correlation['SalePrice'] = df_1['SalePrice']\n",
        "\n",
        "# Print the shape of the updated dataframe\n",
        "print(f\"Shape of df_float_1 after adding SalePrice: {features_for_correlation.shape}\")\n",
        "\n",
        "# Print the columns of df_float_1\n",
        "print(\"Columns in features_for_correlation\")\n",
        "print(features_for_correlation.columns)"
      ]
    },
    {
      "cell_type": "markdown",
      "metadata": {
        "id": "Uie_Sx57Q0N0"
      },
      "source": [
        "# 5a- Feature Selection"
      ]
    },
    {
      "cell_type": "markdown",
      "metadata": {
        "id": "mEH85fjaRDR8"
      },
      "source": [
        "### Initial Correlation Visualization of remaining features"
      ]
    },
    {
      "cell_type": "code",
      "execution_count": 47,
      "metadata": {
        "colab": {
          "base_uri": "https://localhost:8080/",
          "height": 1000
        },
        "id": "NHg3pMVKQ2bG",
        "outputId": "37370ff0-ee5d-4441-da04-fd8b4bb2e2dd"
      },
      "outputs": [
        {
          "output_type": "stream",
          "name": "stdout",
          "text": [
            "Top 5 features correlated with SalePrice:\n",
            "SalePrice         1.000000\n",
            "Garage Cars       0.647207\n",
            "Garage Area       0.633883\n",
            "Total Bsmt SF     0.628470\n",
            "Garage Yr Blt     0.512310\n",
            "Mas Vnr Area      0.503488\n",
            "BsmtFin SF 1      0.427674\n",
            "Bsmt Full Bath    0.277146\n",
            "Bsmt Unf SF       0.174573\n",
            "Bsmt Half Bath    0.042454\n",
            "Name: SalePrice, dtype: float64\n"
          ]
        },
        {
          "output_type": "display_data",
          "data": {
            "text/plain": [
              "<Figure size 1200x1000 with 2 Axes>"
            ],
            "image/png": "[encoded data removed]"
          },
          "metadata": {}
        }
      ],
      "source": [
        "# Calculate correlation matrix\n",
        "corr_matrix = features_for_correlation.corr()\n",
        "\n",
        "# Extract correlations with SalePrice\n",
        "saleprice_corr = corr_matrix['SalePrice'].abs().sort_values(ascending=False)\n",
        "\n",
        "# Print the top 10 most correlated features with SalePrice\n",
        "print(\"Top 5 features correlated with SalePrice:\")\n",
        "print(saleprice_corr.head(10))\n",
        "\n",
        "# Create a heatmap of the top 10 correlated features\n",
        "top_features = saleprice_corr.index[:10].tolist()\n",
        "top_features.append('SalePrice')\n",
        "\n",
        "plt.figure(figsize=(12, 10))\n",
        "sns.heatmap(corr_matrix.loc[top_features, top_features], annot=True, cmap='coolwarm', square=True)\n",
        "plt.title('Correlation Matrix of Top Features with SalePrice')\n",
        "plt.show()"
      ]
    },
    {
      "cell_type": "markdown",
      "metadata": {
        "id": "5phEL5ylQ_aH"
      },
      "source": [
        "### Feature Selection based on correlation"
      ]
    },
    {
      "cell_type": "code",
      "execution_count": 48,
      "metadata": {
        "colab": {
          "base_uri": "https://localhost:8080/"
        },
        "id": "k7GIzvalRJnr",
        "outputId": "565b920e-2efa-4f17-9611-56c8756443ce"
      },
      "outputs": [
        {
          "output_type": "stream",
          "name": "stdout",
          "text": [
            "Top 10 features correlated with SalePrice:\n",
            "SalePrice         1.000000\n",
            "Garage Cars       0.647207\n",
            "Garage Area       0.633883\n",
            "Total Bsmt SF     0.628470\n",
            "Garage Yr Blt     0.512310\n",
            "Mas Vnr Area      0.503488\n",
            "BsmtFin SF 1      0.427674\n",
            "Bsmt Full Bath    0.277146\n",
            "Bsmt Unf SF       0.174573\n",
            "Bsmt Half Bath    0.042454\n",
            "BsmtFin SF 2      0.009326\n",
            "Name: SalePrice, dtype: float64\n"
          ]
        }
      ],
      "source": [
        "# Print the top 10 most correlated features with SalePrice\n",
        "print(\"Top 10 features correlated with SalePrice:\")\n",
        "print(saleprice_corr.head(11))\n"
      ]
    },
    {
      "cell_type": "code",
      "execution_count": 49,
      "metadata": {
        "id": "4Iy5jqp7RLMM"
      },
      "outputs": [],
      "source": [
        "# Select features with correlation > 0.5\n",
        "selected_features = saleprice_corr[saleprice_corr > 0.5].index.tolist()"
      ]
    },
    {
      "cell_type": "code",
      "execution_count": 50,
      "metadata": {
        "colab": {
          "base_uri": "https://localhost:8080/"
        },
        "id": "sjRjKXeRRMbk",
        "outputId": "df44d3ad-b19a-48a4-fee4-a923e7663958"
      },
      "outputs": [
        {
          "output_type": "stream",
          "name": "stdout",
          "text": [
            "\n",
            "Selected features (correlation > 0.5):\n",
            "['Garage Cars', 'Garage Area', 'Total Bsmt SF', 'Garage Yr Blt', 'Mas Vnr Area']\n"
          ]
        }
      ],
      "source": [
        "# Assuming selected_features is your list of features\n",
        "selected_features = saleprice_corr[saleprice_corr > 0.5].index.tolist()\n",
        "\n",
        "# Remove 'SalePrice' from the list if it exists\n",
        "if 'SalePrice' in selected_features:\n",
        "    selected_features.remove('SalePrice')\n",
        "\n",
        "# Print selected features\n",
        "print(\"\\nSelected features (correlation > 0.5):\")\n",
        "print(selected_features)"
      ]
    },
    {
      "cell_type": "code",
      "execution_count": 51,
      "metadata": {
        "id": "VUM7cF9xRNgC"
      },
      "outputs": [],
      "source": [
        "# Create a new dataframe with selected features\n",
        "corr_features = features_for_correlation[selected_features].copy()"
      ]
    },
    {
      "cell_type": "code",
      "execution_count": 52,
      "metadata": {
        "colab": {
          "base_uri": "https://localhost:8080/"
        },
        "id": "r8AXkoJeRO2N",
        "outputId": "0f388267-a20e-4cfa-f1b7-f400e2935268"
      },
      "outputs": [
        {
          "output_type": "stream",
          "name": "stdout",
          "text": [
            "\n",
            "Shape of selected features dataframe: (2637, 5)\n"
          ]
        }
      ],
      "source": [
        "\n",
        "# Print the shape of the new dataframe\n",
        "print(f\"\\nShape of selected features dataframe: {corr_features.shape}\")"
      ]
    },
    {
      "cell_type": "markdown",
      "metadata": {
        "id": "DDxjTUITI-9-"
      },
      "source": [
        "# 5a1- Data Preparation"
      ]
    },
    {
      "cell_type": "code",
      "execution_count": 53,
      "metadata": {
        "colab": {
          "base_uri": "https://localhost:8080/"
        },
        "id": "Rd6d6-slJDZR",
        "outputId": "fcc86f70-0ab8-4e0d-aa6d-15760d885e31"
      },
      "outputs": [
        {
          "output_type": "stream",
          "name": "stdout",
          "text": [
            "Features shape: (2637, 5)\n",
            "Target shape: (2637,)\n"
          ]
        }
      ],
      "source": [
        "# Print the shape of features and target\n",
        "print(f\"Features shape: {corr_features.shape}\")\n",
        "print(f\"Target shape: {target.shape}\")"
      ]
    },
    {
      "cell_type": "markdown",
      "metadata": {
        "id": "bpqy_UM0J12_"
      },
      "source": [
        "### Splitting Training and Testing sets"
      ]
    },
    {
      "cell_type": "code",
      "execution_count": 54,
      "metadata": {
        "id": "JSuZNDS1J5up"
      },
      "outputs": [],
      "source": [
        "X_train, X_test, y_train, y_test = train_test_split(corr_features, target, test_size=0.2, random_state=42)\n"
      ]
    },
    {
      "cell_type": "code",
      "execution_count": 55,
      "metadata": {
        "colab": {
          "base_uri": "https://localhost:8080/"
        },
        "id": "tx_unRLrJ8P3",
        "outputId": "0df8dd01-272c-4b27-aeef-b556d321fba2"
      },
      "outputs": [
        {
          "output_type": "stream",
          "name": "stdout",
          "text": [
            "X_train shape: (2109, 5)\n",
            "X_test shape: (528, 5)\n",
            "y_train shape: (2109,)\n",
            "y_test shape: (528,)\n"
          ]
        }
      ],
      "source": [
        "# Print the shapes of the split data\n",
        "print(f\"X_train shape: {X_train.shape}\")\n",
        "print(f\"X_test shape: {X_test.shape}\")\n",
        "print(f\"y_train shape: {y_train.shape}\")\n",
        "print(f\"y_test shape: {y_test.shape}\")"
      ]
    },
    {
      "cell_type": "markdown",
      "metadata": {
        "id": "2S6VKWcvcIUD"
      },
      "source": [
        "# 5-b RFE Feature Selection\n"
      ]
    },
    {
      "cell_type": "code",
      "execution_count": 56,
      "metadata": {
        "id": "RhnBozkTXbkz"
      },
      "outputs": [],
      "source": [
        " # Create a linear regression model\n",
        "# model = LinearRegression()\n",
        "\n",
        "# # Create an RFE object with 10 features to select\n",
        "# rfe = RFE(model, n_features_to_select=10)\n",
        "\n",
        "# # Fit the RFE object\n",
        "# rfe.fit(X_train, y_train)\n",
        "\n",
        "# # Get the selected features\n",
        "# selected_features_rfe = X_train.columns[rfe.support_]\n",
        "# print(\"Selected features by RFE:\", selected_features_rfe)\n",
        "\n",
        "# # Get feature rankings\n",
        "# feature_rankings = rfe.ranking_\n",
        "# print(\"\\nFeature rankings:\")\n",
        "# for feature, rank in zip(X_train.columns, feature_rankings):\n",
        "#     print(f\"{feature}: {rank}\")\n"
      ]
    },
    {
      "cell_type": "markdown",
      "metadata": {
        "id": "Qy8er7rAXWhT"
      },
      "source": [
        "# 5-c RFECV Feature Selection"
      ]
    },
    {
      "cell_type": "code",
      "execution_count": 57,
      "metadata": {
        "id": "Vndwh2WXYOXV"
      },
      "outputs": [],
      "source": [
        "# # Assuming X_train and y_train are already prepared\n",
        "\n",
        "# # Create a linear regression model\n",
        "# model = LinearRegression()\n",
        "\n",
        "# # Create an RFECV object\n",
        "# rfecv = RFECV(estimator=model, step=1, cv=5)\n",
        "\n",
        "# # Fit the RFECV object\n",
        "# rfecv.fit(X_train, y_train)\n",
        "\n",
        "# # Get the selected features\n",
        "# selected_features_rfecv = X_train.columns[rfecv.support_]\n",
        "# print(\"\\nSelected features by RFECV:\", selected_features_rfecv)\n",
        "\n",
        "# # Print the optimal number of features\n",
        "# print(f\"\\nOptimal number of features: {rfecv.n_features_}\")\n",
        "\n",
        "# # Plot the cross-validation scores\n",
        "# plt.figure(figsize=(10, 6))\n",
        "# plt.xlabel(\"Number of features selected\")\n",
        "# plt.ylabel(\"Cross validation score\")\n",
        "# plt.plot(range(1, len(rfecv.cv_results_['mean_test_score']) + 1), rfecv.cv_results_['mean_test_score'])\n",
        "# plt.title(\"RFECV Cross Validation Scores\")\n",
        "# plt.show()\n"
      ]
    },
    {
      "cell_type": "markdown",
      "metadata": {
        "id": "WCKQv1R-OnOP"
      },
      "source": [
        "# 5a- Model Creation and Eval"
      ]
    },
    {
      "cell_type": "code",
      "execution_count": 58,
      "metadata": {
        "colab": {
          "base_uri": "https://localhost:8080/",
          "height": 637
        },
        "id": "wQEca3BQesGO",
        "outputId": "40c35186-eef8-429c-a9c4-3669e737e315"
      },
      "outputs": [
        {
          "output_type": "stream",
          "name": "stdout",
          "text": [
            "Root Mean Squared Error (RMSE): $48960.63\n",
            "Root Mean Squared Percentage Error (RMSPE): 3.38%\n",
            "R-squared: 0.6528\n"
          ]
        },
        {
          "output_type": "display_data",
          "data": {
            "text/plain": [
              "<Figure size 1000x600 with 1 Axes>"
            ],
            "image/png": "[encoded data removed]"
          },
          "metadata": {}
        }
      ],
      "source": [
        "\n",
        "# Data Preparation\n",
        "X_train, X_test, y_train, y_test = train_test_split(corr_features, target, test_size=0.2, random_state=42)\n",
        "\n",
        "# Feature Scaling\n",
        "scaler = StandardScaler()\n",
        "X_train_scaled = scaler.fit_transform(X_train)\n",
        "X_test_scaled = scaler.transform(X_test)\n",
        "\n",
        "# Model Creation and Evaluation\n",
        "# Use Ridge regression wit a small alpha value to add some regularization\n",
        "model = Ridge(alpha=0.1)\n",
        "model.fit(X_train_scaled, y_train)\n",
        "\n",
        "# Make predictions\n",
        "predictions = model.predict(X_test_scaled)\n",
        "\n",
        "# Calculate metrics\n",
        "rmse = np.sqrt(mean_squared_error(y_test, predictions))\n",
        "print(f\"Root Mean Squared Error (RMSE): ${rmse:.2f}\")\n",
        "\n",
        "rmspe = np.sqrt(np.mean((predictions - y_test) / y_test)**2) * 100\n",
        "print(f\"Root Mean Squared Percentage Error (RMSPE): {rmspe:.2f}%\")\n",
        "\n",
        "r2 = model.score(X_test_scaled, y_test)\n",
        "print(f\"R-squared: {r2:.4f}\")\n",
        "\n",
        "# Visualize the predictions vs actual values\n",
        "plt.figure(figsize=(10, 6))\n",
        "plt.scatter(y_test, predictions)\n",
        "plt.plot([min(y_test), max(y_test)], [min(y_test), max(y_test)], 'r--')\n",
        "plt.xlabel('Actual Price ($)')\n",
        "plt.ylabel('Predicted Price ($)')\n",
        "plt.title('Actual vs Predicted House Prices')\n",
        "plt.show()\n"
      ]
    }
  ],
  "metadata": {
    "accelerator": "GPU",
    "colab": {
      "collapsed_sections": [
        "5RUXSTw_2Qd_",
        "rbq4t8ql_Pof",
        "S6D0-CHu_Yvq",
        "3FNoPOwrECqd",
        "6DWpA9BKF6j5",
        "wnrak5YiIYRK"
      ],
      "gpuType": "T4",
      "provenance": [],
      "toc_visible": true,
      "include_colab_link": true
    },
    "kernelspec": {
      "display_name": "Python 3",
      "name": "python3"
    },
    "language_info": {
      "name": "python",
      "version": "3.12.3"
    }
  },
  "nbformat": 4,
  "nbformat_minor": 0
}